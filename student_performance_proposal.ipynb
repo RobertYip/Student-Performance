{
 "cells": [
  {
   "cell_type": "markdown",
   "metadata": {},
   "source": [
    "Student Performance Data set  \n",
    "https://archive.ics.uci.edu/ml/datasets/Student+Performance \n",
    "\n",
    "# What factors influence a secondary student's grades?"
   ]
  },
  {
   "cell_type": "markdown",
   "metadata": {},
   "source": [
    "## Introduction:\n",
    "By Sébastien Rhéaume, Ryan Shar, Justing Wong, Robert Yip\n",
    "\n",
    "A student's grades is often the associative indicator of the student's performance in school. While a student's innate intelligence is often the predictor variable in the student's grades, there are likely other factors that affect the grades. In our study, we investigate whether certain environmental factors are significant in influencing a student's performance. We selected Math grades as the indicator for performance, as it is a subject that can be objectively evaluated. Our data set consists of 395 secondary students from two Portuguese schools, with their grades in mathematics and environmental factors collected through questionnaires.\n"
   ]
  },
  {
   "cell_type": "markdown",
   "metadata": {},
   "source": [
    "## Preliminary Exploratory Data Analysis\n",
    "1. Demonstrate that the dataset can be read from the web into R \n"
   ]
  },
  {
   "cell_type": "code",
   "execution_count": 3,
   "metadata": {},
   "outputs": [
    {
     "name": "stderr",
     "output_type": "stream",
     "text": [
      "── \u001b[1mAttaching packages\u001b[22m ─────────────────────────────────────── tidyverse 1.3.0 ──\n",
      "\n",
      "\u001b[32m✔\u001b[39m \u001b[34mggplot2\u001b[39m 3.3.2     \u001b[32m✔\u001b[39m \u001b[34mpurrr  \u001b[39m 0.3.4\n",
      "\u001b[32m✔\u001b[39m \u001b[34mtibble \u001b[39m 3.0.3     \u001b[32m✔\u001b[39m \u001b[34mdplyr  \u001b[39m 1.0.2\n",
      "\u001b[32m✔\u001b[39m \u001b[34mtidyr  \u001b[39m 1.1.2     \u001b[32m✔\u001b[39m \u001b[34mstringr\u001b[39m 1.4.0\n",
      "\u001b[32m✔\u001b[39m \u001b[34mreadr  \u001b[39m 1.3.1     \u001b[32m✔\u001b[39m \u001b[34mforcats\u001b[39m 0.5.0\n",
      "\n",
      "Warning message:\n",
      "“package ‘ggplot2’ was built under R version 4.0.1”\n",
      "Warning message:\n",
      "“package ‘tibble’ was built under R version 4.0.2”\n",
      "Warning message:\n",
      "“package ‘tidyr’ was built under R version 4.0.2”\n",
      "Warning message:\n",
      "“package ‘dplyr’ was built under R version 4.0.2”\n",
      "── \u001b[1mConflicts\u001b[22m ────────────────────────────────────────── tidyverse_conflicts() ──\n",
      "\u001b[31m✖\u001b[39m \u001b[34mdplyr\u001b[39m::\u001b[32mfilter()\u001b[39m masks \u001b[34mstats\u001b[39m::filter()\n",
      "\u001b[31m✖\u001b[39m \u001b[34mdplyr\u001b[39m::\u001b[32mlag()\u001b[39m    masks \u001b[34mstats\u001b[39m::lag()\n",
      "\n"
     ]
    }
   ],
   "source": [
    "library(tidyverse)\n"
   ]
  },
  {
   "cell_type": "markdown",
   "metadata": {},
   "source": [
    "### Read data set"
   ]
  },
  {
   "cell_type": "code",
   "execution_count": 21,
   "metadata": {},
   "outputs": [
    {
     "name": "stderr",
     "output_type": "stream",
     "text": [
      "Using ',' as decimal and '.' as grouping mark. Use read_delim() for more control.\n",
      "\n",
      "Parsed with column specification:\n",
      "cols(\n",
      "  .default = col_character(),\n",
      "  age = \u001b[32mcol_double()\u001b[39m,\n",
      "  Medu = \u001b[32mcol_double()\u001b[39m,\n",
      "  Fedu = \u001b[32mcol_double()\u001b[39m,\n",
      "  traveltime = \u001b[32mcol_double()\u001b[39m,\n",
      "  studytime = \u001b[32mcol_double()\u001b[39m,\n",
      "  failures = \u001b[32mcol_double()\u001b[39m,\n",
      "  famrel = \u001b[32mcol_double()\u001b[39m,\n",
      "  freetime = \u001b[32mcol_double()\u001b[39m,\n",
      "  goout = \u001b[32mcol_double()\u001b[39m,\n",
      "  Dalc = \u001b[32mcol_double()\u001b[39m,\n",
      "  Walc = \u001b[32mcol_double()\u001b[39m,\n",
      "  health = \u001b[32mcol_double()\u001b[39m,\n",
      "  absences = \u001b[32mcol_double()\u001b[39m,\n",
      "  G1 = \u001b[32mcol_double()\u001b[39m,\n",
      "  G2 = \u001b[32mcol_double()\u001b[39m,\n",
      "  G3 = \u001b[32mcol_double()\u001b[39m\n",
      ")\n",
      "\n",
      "See spec(...) for full column specifications.\n",
      "\n"
     ]
    },
    {
     "name": "stdout",
     "output_type": "stream",
     "text": [
      "  school sex age address famsize Pstatus Medu Fedu     Mjob     Fjob     reason\n",
      "1     GP   F  18       U     GT3       A    4    4  at_home  teacher     course\n",
      "2     GP   F  17       U     GT3       T    1    1  at_home    other     course\n",
      "3     GP   F  15       U     LE3       T    1    1  at_home    other      other\n",
      "4     GP   F  15       U     GT3       T    4    2   health services       home\n",
      "5     GP   F  16       U     GT3       T    3    3    other    other       home\n",
      "6     GP   M  16       U     LE3       T    4    3 services    other reputation\n",
      "  guardian traveltime studytime failures schoolsup famsup paid activities\n",
      "1   mother          2         2        0       yes     no   no         no\n",
      "2   father          1         2        0        no    yes   no         no\n",
      "3   mother          1         2        3       yes     no  yes         no\n",
      "4   mother          1         3        0        no    yes  yes        yes\n",
      "5   father          1         2        0        no    yes  yes         no\n",
      "6   mother          1         2        0        no    yes  yes        yes\n",
      "  nursery higher internet romantic famrel freetime goout Dalc Walc health\n",
      "1     yes    yes       no       no      4        3     4    1    1      3\n",
      "2      no    yes      yes       no      5        3     3    1    1      3\n",
      "3     yes    yes      yes       no      4        3     2    2    3      3\n",
      "4     yes    yes      yes      yes      3        2     2    1    1      5\n",
      "5     yes    yes       no       no      4        3     2    1    2      5\n",
      "6     yes    yes      yes       no      5        4     2    1    2      5\n",
      "  absences G1 G2 G3\n",
      "1        6  5  6  6\n",
      "2        4  5  5  6\n",
      "3       10  7  8 10\n",
      "4        2 15 14 15\n",
      "5        4  6 10 10\n",
      "6       10 15 15 15\n"
     ]
    }
   ],
   "source": [
    "# dataset\n",
    "url <- \"https://archive.ics.uci.edu/ml/machine-learning-databases/00320/student.zip\"\n",
    "\n",
    "# read into table\n",
    "temp <- tempfile()\n",
    "download.file(url,temp)\n",
    "data <- read_csv2(unz(temp, \"student-mat.csv\"))\n",
    "print.data.frame(head(data))     # print.data.frame is needed because the table is wide and has collapsed columns"
   ]
  },
  {
   "cell_type": "markdown",
   "metadata": {},
   "source": [
    "### Wrangling table columns into factors\n",
    "For our study, we will only look at these 10 factors for simplicity\n",
    "1. sex\n",
    "2. age\n",
    "3. famsize\n",
    "4. Medu - Mother's education level\n",
    "5. Fedu - Father's education level (1-4)\n",
    "6. traveltime - Home to school travel time (1=short, 5=long)\n",
    "7. studytime - Weekly study time (1=very little, 3=alot)\n",
    "8. failures - Number of past failures\n",
    "9. paid - Is the student attending paid lessons? (1=yes)\n",
    "10. activities - Is the student participating in extracurriculars? (1=yes)\n",
    "11. internet - Is there internet access at home (1=yes)\n",
    "12. romantic - Is the student dating? (1=yes)\n",
    "13. G1\n",
    "14. G2\n",
    "15. G3"
   ]
  },
  {
   "cell_type": "code",
   "execution_count": 27,
   "metadata": {},
   "outputs": [
    {
     "data": {
      "text/html": [
       "<table>\n",
       "<caption>A tibble: 6 × 15</caption>\n",
       "<thead>\n",
       "\t<tr><th scope=col>sex</th><th scope=col>age</th><th scope=col>famsize</th><th scope=col>Medu</th><th scope=col>Fedu</th><th scope=col>traveltime</th><th scope=col>studytime</th><th scope=col>failures</th><th scope=col>paid</th><th scope=col>activities</th><th scope=col>internet</th><th scope=col>romantic</th><th scope=col>G1</th><th scope=col>G2</th><th scope=col>G3</th></tr>\n",
       "\t<tr><th scope=col>&lt;fct&gt;</th><th scope=col>&lt;dbl&gt;</th><th scope=col>&lt;fct&gt;</th><th scope=col>&lt;fct&gt;</th><th scope=col>&lt;fct&gt;</th><th scope=col>&lt;fct&gt;</th><th scope=col>&lt;fct&gt;</th><th scope=col>&lt;dbl&gt;</th><th scope=col>&lt;fct&gt;</th><th scope=col>&lt;fct&gt;</th><th scope=col>&lt;fct&gt;</th><th scope=col>&lt;fct&gt;</th><th scope=col>&lt;dbl&gt;</th><th scope=col>&lt;dbl&gt;</th><th scope=col>&lt;dbl&gt;</th></tr>\n",
       "</thead>\n",
       "<tbody>\n",
       "\t<tr><td>F</td><td>18</td><td>GT3</td><td>4</td><td>4</td><td>2</td><td>2</td><td>0</td><td>no </td><td>no </td><td>no </td><td>no </td><td> 5</td><td> 6</td><td> 6</td></tr>\n",
       "\t<tr><td>F</td><td>17</td><td>GT3</td><td>1</td><td>1</td><td>1</td><td>2</td><td>0</td><td>no </td><td>no </td><td>yes</td><td>no </td><td> 5</td><td> 5</td><td> 6</td></tr>\n",
       "\t<tr><td>F</td><td>15</td><td>LE3</td><td>1</td><td>1</td><td>1</td><td>2</td><td>3</td><td>yes</td><td>no </td><td>yes</td><td>no </td><td> 7</td><td> 8</td><td>10</td></tr>\n",
       "\t<tr><td>F</td><td>15</td><td>GT3</td><td>4</td><td>2</td><td>1</td><td>3</td><td>0</td><td>yes</td><td>yes</td><td>yes</td><td>yes</td><td>15</td><td>14</td><td>15</td></tr>\n",
       "\t<tr><td>F</td><td>16</td><td>GT3</td><td>3</td><td>3</td><td>1</td><td>2</td><td>0</td><td>yes</td><td>no </td><td>no </td><td>no </td><td> 6</td><td>10</td><td>10</td></tr>\n",
       "\t<tr><td>M</td><td>16</td><td>LE3</td><td>4</td><td>3</td><td>1</td><td>2</td><td>0</td><td>yes</td><td>yes</td><td>yes</td><td>no </td><td>15</td><td>15</td><td>15</td></tr>\n",
       "</tbody>\n",
       "</table>\n"
      ],
      "text/latex": [
       "A tibble: 6 × 15\n",
       "\\begin{tabular}{lllllllllllllll}\n",
       " sex & age & famsize & Medu & Fedu & traveltime & studytime & failures & paid & activities & internet & romantic & G1 & G2 & G3\\\\\n",
       " <fct> & <dbl> & <fct> & <fct> & <fct> & <fct> & <fct> & <dbl> & <fct> & <fct> & <fct> & <fct> & <dbl> & <dbl> & <dbl>\\\\\n",
       "\\hline\n",
       "\t F & 18 & GT3 & 4 & 4 & 2 & 2 & 0 & no  & no  & no  & no  &  5 &  6 &  6\\\\\n",
       "\t F & 17 & GT3 & 1 & 1 & 1 & 2 & 0 & no  & no  & yes & no  &  5 &  5 &  6\\\\\n",
       "\t F & 15 & LE3 & 1 & 1 & 1 & 2 & 3 & yes & no  & yes & no  &  7 &  8 & 10\\\\\n",
       "\t F & 15 & GT3 & 4 & 2 & 1 & 3 & 0 & yes & yes & yes & yes & 15 & 14 & 15\\\\\n",
       "\t F & 16 & GT3 & 3 & 3 & 1 & 2 & 0 & yes & no  & no  & no  &  6 & 10 & 10\\\\\n",
       "\t M & 16 & LE3 & 4 & 3 & 1 & 2 & 0 & yes & yes & yes & no  & 15 & 15 & 15\\\\\n",
       "\\end{tabular}\n"
      ],
      "text/markdown": [
       "\n",
       "A tibble: 6 × 15\n",
       "\n",
       "| sex &lt;fct&gt; | age &lt;dbl&gt; | famsize &lt;fct&gt; | Medu &lt;fct&gt; | Fedu &lt;fct&gt; | traveltime &lt;fct&gt; | studytime &lt;fct&gt; | failures &lt;dbl&gt; | paid &lt;fct&gt; | activities &lt;fct&gt; | internet &lt;fct&gt; | romantic &lt;fct&gt; | G1 &lt;dbl&gt; | G2 &lt;dbl&gt; | G3 &lt;dbl&gt; |\n",
       "|---|---|---|---|---|---|---|---|---|---|---|---|---|---|---|\n",
       "| F | 18 | GT3 | 4 | 4 | 2 | 2 | 0 | no  | no  | no  | no  |  5 |  6 |  6 |\n",
       "| F | 17 | GT3 | 1 | 1 | 1 | 2 | 0 | no  | no  | yes | no  |  5 |  5 |  6 |\n",
       "| F | 15 | LE3 | 1 | 1 | 1 | 2 | 3 | yes | no  | yes | no  |  7 |  8 | 10 |\n",
       "| F | 15 | GT3 | 4 | 2 | 1 | 3 | 0 | yes | yes | yes | yes | 15 | 14 | 15 |\n",
       "| F | 16 | GT3 | 3 | 3 | 1 | 2 | 0 | yes | no  | no  | no  |  6 | 10 | 10 |\n",
       "| M | 16 | LE3 | 4 | 3 | 1 | 2 | 0 | yes | yes | yes | no  | 15 | 15 | 15 |\n",
       "\n"
      ],
      "text/plain": [
       "  sex age famsize Medu Fedu traveltime studytime failures paid activities\n",
       "1 F   18  GT3     4    4    2          2         0        no   no        \n",
       "2 F   17  GT3     1    1    1          2         0        no   no        \n",
       "3 F   15  LE3     1    1    1          2         3        yes  no        \n",
       "4 F   15  GT3     4    2    1          3         0        yes  yes       \n",
       "5 F   16  GT3     3    3    1          2         0        yes  no        \n",
       "6 M   16  LE3     4    3    1          2         0        yes  yes       \n",
       "  internet romantic G1 G2 G3\n",
       "1 no       no        5  6  6\n",
       "2 yes      no        5  5  6\n",
       "3 yes      no        7  8 10\n",
       "4 yes      yes      15 14 15\n",
       "5 no       no        6 10 10\n",
       "6 yes      no       15 15 15"
      ]
     },
     "metadata": {},
     "output_type": "display_data"
    }
   ],
   "source": [
    "#select columns\n",
    "data <- data %>%\n",
    "    select (sex, age, famsize, Medu, Fedu, traveltime, studytime, failures, paid, activities, internet, romantic, G1, G2, G3)\n",
    "\n",
    "# convert columns to factors\n",
    "# data <- data %>%\n",
    "#     as_factor (sex,famsize,Medu,Fedu,studytime,failures,paid,activities,internet,romantic)\n",
    "\n",
    "col_factors <- c(\"sex\",\"famsize\",\"Medu\",\"Fedu\",\"traveltime\",\"studytime\",\"paid\",\"activities\",\"internet\",\"romantic\") \n",
    "data[,col_factors] <- lapply(data[,col_factors], factor)\n",
    "head(data)"
   ]
  },
  {
   "cell_type": "markdown",
   "metadata": {},
   "source": [
    "### 3.\n",
    "Using only training data, summarize the data in at least one table (this is exploratory data analysis). An example of a useful table could be one that reports the number of observations in each class, the means of the predictor variables you plan to use in your analysis and how many rows have missing data.   \n",
    "\n",
    "### 4.\n",
    "Using only training data, visualize the data with at least one plot relevant to the analysis you plan to do (this is exploratory data analysis). An example of a useful visualization could be one that compares the distributions of each of the predictor variables you plan to use in your analysis.\n"
   ]
  },
  {
   "cell_type": "markdown",
   "metadata": {},
   "source": [
    "## Methods"
   ]
  },
  {
   "cell_type": "markdown",
   "metadata": {},
   "source": [
    "For our study, we will only look at these 10 factors for simplicity\n",
    "1. sex\n",
    "2. age\n",
    "3. famsize\n",
    "4. Medu - Mother's education level\n",
    "5. Fedu - Father's education level (1-4)\n",
    "6. traveltime - Home to school travel time (1=short, 5=long)\n",
    "7. studytime - Weekly study time (1=very little, 3=alot)\n",
    "8. failures - Number of past failures\n",
    "9. paid - Is the student attending paid lessons? (1=yes)\n",
    "10. activities - Is the student participating in extracurriculars? (1=yes)\n",
    "11. internet - Is there internet access at home (1=yes)\n",
    "12. romantic - Is the student dating? (1=yes)\n",
    "13. G1\n",
    "14. G2\n",
    "15. G3\n",
    "\n",
    "Our goal is to predict the student's grades given the other environmental variables. We total all 3 grades together for simplicity. As the grades are numeric, we require a regression analysis, with a mix of numeric and factor variables."
   ]
  },
  {
   "cell_type": "markdown",
   "metadata": {},
   "source": [
    "### Expected Outcomes Significance"
   ]
  },
  {
   "cell_type": "markdown",
   "metadata": {},
   "source": [
    "#### What do you expect to find?\n",
    "We expect to find a mix of significant and insignificant factors that influence a student's grades. As students ourselves, we hypothesize these significant factors to be strong predictors of a student's grades.\n",
    "\n",
    "#### What impact could such findings have?\n",
    "By improving a student's exposures to these significant factors, a student's grades may increase. This can become helpful information for parents to plan for their children's success.\n",
    "\n",
    "##### What future questions could this lead to?\n",
    "Replicated for different schools and subjects, perhaps to university students as well.\n"
   ]
  },
  {
   "cell_type": "code",
   "execution_count": null,
   "metadata": {},
   "outputs": [],
   "source": []
  }
 ],
 "metadata": {
  "kernelspec": {
   "display_name": "R",
   "language": "R",
   "name": "ir"
  },
  "language_info": {
   "codemirror_mode": "r",
   "file_extension": ".r",
   "mimetype": "text/x-r-source",
   "name": "R",
   "pygments_lexer": "r",
   "version": "4.0.0"
  }
 },
 "nbformat": 4,
 "nbformat_minor": 4
}
