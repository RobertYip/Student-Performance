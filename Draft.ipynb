{
 "cells": [
  {
   "cell_type": "code",
   "execution_count": 49,
   "metadata": {},
   "outputs": [],
   "source": [
    "library(tidyverse)\n",
    "library(repr)\n",
    "library(tidymodels)\n",
    "options(repr.matrix.max.rows = 6)\n"
   ]
  },
  {
   "cell_type": "markdown",
   "metadata": {},
   "source": [
    "### Load Data"
   ]
  },
  {
   "cell_type": "code",
   "execution_count": 50,
   "metadata": {},
   "outputs": [
    {
     "name": "stderr",
     "output_type": "stream",
     "text": [
      "Using ',' as decimal and '.' as grouping mark. Use read_delim() for more control.\n",
      "\n",
      "Parsed with column specification:\n",
      "cols(\n",
      "  .default = col_character(),\n",
      "  age = \u001b[32mcol_double()\u001b[39m,\n",
      "  Medu = \u001b[32mcol_double()\u001b[39m,\n",
      "  Fedu = \u001b[32mcol_double()\u001b[39m,\n",
      "  traveltime = \u001b[32mcol_double()\u001b[39m,\n",
      "  studytime = \u001b[32mcol_double()\u001b[39m,\n",
      "  failures = \u001b[32mcol_double()\u001b[39m,\n",
      "  famrel = \u001b[32mcol_double()\u001b[39m,\n",
      "  freetime = \u001b[32mcol_double()\u001b[39m,\n",
      "  goout = \u001b[32mcol_double()\u001b[39m,\n",
      "  Dalc = \u001b[32mcol_double()\u001b[39m,\n",
      "  Walc = \u001b[32mcol_double()\u001b[39m,\n",
      "  health = \u001b[32mcol_double()\u001b[39m,\n",
      "  absences = \u001b[32mcol_double()\u001b[39m,\n",
      "  G1 = \u001b[32mcol_double()\u001b[39m,\n",
      "  G2 = \u001b[32mcol_double()\u001b[39m,\n",
      "  G3 = \u001b[32mcol_double()\u001b[39m\n",
      ")\n",
      "\n",
      "See spec(...) for full column specifications.\n",
      "\n"
     ]
    }
   ],
   "source": [
    "# dataset\n",
    "url <- \"https://archive.ics.uci.edu/ml/machine-learning-databases/00320/student.zip\"\n",
    "\n",
    "# read into table\n",
    "temp <- tempfile()\n",
    "download.file(url,temp)\n",
    "raw_data <- read_csv2(unz(temp, \"student-mat.csv\"))\n",
    "#print.data.frame(head(raw_data))     # print.data.frame is needed because the table is wide and has collapsed columns"
   ]
  },
  {
   "cell_type": "markdown",
   "metadata": {},
   "source": [
    "### Clean Data"
   ]
  },
  {
   "cell_type": "code",
   "execution_count": 51,
   "metadata": {},
   "outputs": [
    {
     "data": {
      "text/html": [
       "<table>\n",
       "<caption>A tibble: 395 × 4</caption>\n",
       "<thead>\n",
       "\t<tr><th scope=col>romantic</th><th scope=col>age</th><th scope=col>absences</th><th scope=col>overall_grade</th></tr>\n",
       "\t<tr><th scope=col>&lt;fct&gt;</th><th scope=col>&lt;dbl&gt;</th><th scope=col>&lt;dbl&gt;</th><th scope=col>&lt;dbl&gt;</th></tr>\n",
       "</thead>\n",
       "<tbody>\n",
       "\t<tr><td>no</td><td>18</td><td> 6</td><td>17</td></tr>\n",
       "\t<tr><td>no</td><td>17</td><td> 4</td><td>16</td></tr>\n",
       "\t<tr><td>no</td><td>15</td><td>10</td><td>25</td></tr>\n",
       "\t<tr><td>⋮</td><td>⋮</td><td>⋮</td><td>⋮</td></tr>\n",
       "\t<tr><td>no</td><td>21</td><td>3</td><td>25</td></tr>\n",
       "\t<tr><td>no</td><td>18</td><td>0</td><td>33</td></tr>\n",
       "\t<tr><td>no</td><td>19</td><td>5</td><td>26</td></tr>\n",
       "</tbody>\n",
       "</table>\n"
      ],
      "text/latex": [
       "A tibble: 395 × 4\n",
       "\\begin{tabular}{llll}\n",
       " romantic & age & absences & overall\\_grade\\\\\n",
       " <fct> & <dbl> & <dbl> & <dbl>\\\\\n",
       "\\hline\n",
       "\t no & 18 &  6 & 17\\\\\n",
       "\t no & 17 &  4 & 16\\\\\n",
       "\t no & 15 & 10 & 25\\\\\n",
       "\t ⋮ & ⋮ & ⋮ & ⋮\\\\\n",
       "\t no & 21 & 3 & 25\\\\\n",
       "\t no & 18 & 0 & 33\\\\\n",
       "\t no & 19 & 5 & 26\\\\\n",
       "\\end{tabular}\n"
      ],
      "text/markdown": [
       "\n",
       "A tibble: 395 × 4\n",
       "\n",
       "| romantic &lt;fct&gt; | age &lt;dbl&gt; | absences &lt;dbl&gt; | overall_grade &lt;dbl&gt; |\n",
       "|---|---|---|---|\n",
       "| no | 18 |  6 | 17 |\n",
       "| no | 17 |  4 | 16 |\n",
       "| no | 15 | 10 | 25 |\n",
       "| ⋮ | ⋮ | ⋮ | ⋮ |\n",
       "| no | 21 | 3 | 25 |\n",
       "| no | 18 | 0 | 33 |\n",
       "| no | 19 | 5 | 26 |\n",
       "\n"
      ],
      "text/plain": [
       "    romantic age absences overall_grade\n",
       "1   no       18   6       17           \n",
       "2   no       17   4       16           \n",
       "3   no       15  10       25           \n",
       "⋮   ⋮        ⋮   ⋮        ⋮            \n",
       "393 no       21  3        25           \n",
       "394 no       18  0        33           \n",
       "395 no       19  5        26           "
      ]
     },
     "metadata": {},
     "output_type": "display_data"
    }
   ],
   "source": [
    "#select columns and combine grades\n",
    "data <- raw_data %>%\n",
    "    select (romantic, age, absences, G1, G2, G3) %>%\n",
    "    mutate (overall_grade = G1 + G2 + G3) %>%\n",
    "    select (-G1, -G2, -G3) %>%\n",
    "    mutate(romantic = as_factor(romantic))\n",
    "\n",
    "data"
   ]
  },
  {
   "cell_type": "markdown",
   "metadata": {},
   "source": [
    "### Split training and testing"
   ]
  },
  {
   "cell_type": "code",
   "execution_count": 52,
   "metadata": {},
   "outputs": [],
   "source": [
    "data_split <- initial_split(data, prop = 0.75, strata = romantic)  \n",
    "data_train <- training(data_split)   \n",
    "data_test <- testing(data_split)\n",
    "\n",
    "#data_train\n",
    "#data_test"
   ]
  },
  {
   "cell_type": "markdown",
   "metadata": {},
   "source": [
    "### Recipe"
   ]
  },
  {
   "cell_type": "code",
   "execution_count": 53,
   "metadata": {},
   "outputs": [],
   "source": [
    "student_recipe <- recipe(romantic ~ ., data = data_train) %>% \n",
    "                    step_scale(all_predictors()) %>%\n",
    "                    step_center(all_predictors())"
   ]
  },
  {
   "cell_type": "markdown",
   "metadata": {},
   "source": [
    "### Set 5 fold"
   ]
  },
  {
   "cell_type": "code",
   "execution_count": 54,
   "metadata": {},
   "outputs": [],
   "source": [
    "data_vfold <- vfold_cv(data_train, v = 5, strata = romantic)"
   ]
  },
  {
   "cell_type": "markdown",
   "metadata": {},
   "source": [
    "### Spec with tune"
   ]
  },
  {
   "cell_type": "code",
   "execution_count": 55,
   "metadata": {},
   "outputs": [],
   "source": [
    "knn_tune <- nearest_neighbor(weight_func = \"rectangular\", neighbors= tune()) %>%\n",
    "      set_engine(\"kknn\") %>%\n",
    "      set_mode(\"classification\")"
   ]
  },
  {
   "cell_type": "markdown",
   "metadata": {},
   "source": [
    "### KNN"
   ]
  },
  {
   "cell_type": "code",
   "execution_count": 56,
   "metadata": {},
   "outputs": [
    {
     "data": {
      "text/html": [
       "<table>\n",
       "<caption>A tibble: 18 × 7</caption>\n",
       "<thead>\n",
       "\t<tr><th scope=col>neighbors</th><th scope=col>.metric</th><th scope=col>.estimator</th><th scope=col>mean</th><th scope=col>n</th><th scope=col>std_err</th><th scope=col>.config</th></tr>\n",
       "\t<tr><th scope=col>&lt;int&gt;</th><th scope=col>&lt;chr&gt;</th><th scope=col>&lt;chr&gt;</th><th scope=col>&lt;dbl&gt;</th><th scope=col>&lt;int&gt;</th><th scope=col>&lt;dbl&gt;</th><th scope=col>&lt;chr&gt;</th></tr>\n",
       "</thead>\n",
       "<tbody>\n",
       "\t<tr><td>2</td><td>accuracy</td><td>binary</td><td>0.6297915</td><td>5</td><td>0.02677848</td><td>Model1</td></tr>\n",
       "\t<tr><td>2</td><td>roc_auc </td><td>binary</td><td>0.5948961</td><td>5</td><td>0.03288554</td><td>Model1</td></tr>\n",
       "\t<tr><td>3</td><td>accuracy</td><td>binary</td><td>0.6332983</td><td>5</td><td>0.02871105</td><td>Model2</td></tr>\n",
       "\t<tr><td>⋮</td><td>⋮</td><td>⋮</td><td>⋮</td><td>⋮</td><td>⋮</td><td>⋮</td></tr>\n",
       "\t<tr><td>13</td><td>roc_auc </td><td>binary</td><td>0.5790150</td><td>5</td><td>0.05663439</td><td>Model8</td></tr>\n",
       "\t<tr><td>15</td><td>accuracy</td><td>binary</td><td>0.6500214</td><td>5</td><td>0.01320033</td><td>Model9</td></tr>\n",
       "\t<tr><td>15</td><td>roc_auc </td><td>binary</td><td>0.5739465</td><td>5</td><td>0.04575568</td><td>Model9</td></tr>\n",
       "</tbody>\n",
       "</table>\n"
      ],
      "text/latex": [
       "A tibble: 18 × 7\n",
       "\\begin{tabular}{lllllll}\n",
       " neighbors & .metric & .estimator & mean & n & std\\_err & .config\\\\\n",
       " <int> & <chr> & <chr> & <dbl> & <int> & <dbl> & <chr>\\\\\n",
       "\\hline\n",
       "\t 2 & accuracy & binary & 0.6297915 & 5 & 0.02677848 & Model1\\\\\n",
       "\t 2 & roc\\_auc  & binary & 0.5948961 & 5 & 0.03288554 & Model1\\\\\n",
       "\t 3 & accuracy & binary & 0.6332983 & 5 & 0.02871105 & Model2\\\\\n",
       "\t ⋮ & ⋮ & ⋮ & ⋮ & ⋮ & ⋮ & ⋮\\\\\n",
       "\t 13 & roc\\_auc  & binary & 0.5790150 & 5 & 0.05663439 & Model8\\\\\n",
       "\t 15 & accuracy & binary & 0.6500214 & 5 & 0.01320033 & Model9\\\\\n",
       "\t 15 & roc\\_auc  & binary & 0.5739465 & 5 & 0.04575568 & Model9\\\\\n",
       "\\end{tabular}\n"
      ],
      "text/markdown": [
       "\n",
       "A tibble: 18 × 7\n",
       "\n",
       "| neighbors &lt;int&gt; | .metric &lt;chr&gt; | .estimator &lt;chr&gt; | mean &lt;dbl&gt; | n &lt;int&gt; | std_err &lt;dbl&gt; | .config &lt;chr&gt; |\n",
       "|---|---|---|---|---|---|---|\n",
       "| 2 | accuracy | binary | 0.6297915 | 5 | 0.02677848 | Model1 |\n",
       "| 2 | roc_auc  | binary | 0.5948961 | 5 | 0.03288554 | Model1 |\n",
       "| 3 | accuracy | binary | 0.6332983 | 5 | 0.02871105 | Model2 |\n",
       "| ⋮ | ⋮ | ⋮ | ⋮ | ⋮ | ⋮ | ⋮ |\n",
       "| 13 | roc_auc  | binary | 0.5790150 | 5 | 0.05663439 | Model8 |\n",
       "| 15 | accuracy | binary | 0.6500214 | 5 | 0.01320033 | Model9 |\n",
       "| 15 | roc_auc  | binary | 0.5739465 | 5 | 0.04575568 | Model9 |\n",
       "\n"
      ],
      "text/plain": [
       "   neighbors .metric  .estimator mean      n std_err    .config\n",
       "1  2         accuracy binary     0.6297915 5 0.02677848 Model1 \n",
       "2  2         roc_auc  binary     0.5948961 5 0.03288554 Model1 \n",
       "3  3         accuracy binary     0.6332983 5 0.02871105 Model2 \n",
       "⋮  ⋮         ⋮        ⋮          ⋮         ⋮ ⋮          ⋮      \n",
       "16 13        roc_auc  binary     0.5790150 5 0.05663439 Model8 \n",
       "17 15        accuracy binary     0.6500214 5 0.01320033 Model9 \n",
       "18 15        roc_auc  binary     0.5739465 5 0.04575568 Model9 "
      ]
     },
     "metadata": {},
     "output_type": "display_data"
    }
   ],
   "source": [
    "set.seed(3)\n",
    "knn_results <- workflow() %>%\n",
    "      add_recipe(student_recipe) %>%\n",
    "      add_model(knn_tune) %>%\n",
    "      tune_grid(resamples = data_vfold, grid = 10) %>%\n",
    "      collect_metrics()\n",
    "knn_results"
   ]
  },
  {
   "cell_type": "markdown",
   "metadata": {},
   "source": [
    "### check knn"
   ]
  },
  {
   "cell_type": "code",
   "execution_count": 57,
   "metadata": {},
   "outputs": [
    {
     "data": {
      "image/png": "[encoded data removed]",
      "text/plain": [
       "plot without title"
      ]
     },
     "metadata": {
      "image/png": {
       "height": 420,
       "width": 420
      }
     },
     "output_type": "display_data"
    }
   ],
   "source": [
    "accuracies <- knn_results %>% \n",
    "      filter(.metric == \"accuracy\")\n",
    "\n",
    "accuracy_versus_k <- ggplot(accuracies, aes(x = neighbors, y = mean))+\n",
    "      geom_point() +\n",
    "      geom_line() +\n",
    "      labs(x = \"Neighbors\", y = \"Accuracy Estimate\") +\n",
    "      scale_x_continuous(breaks = seq(0, 20, by = 1)) +  # adjusting the x-axis\n",
    "      scale_y_continuous(limits = c(0.4, 1.0)) # adjusting the y-axis\n",
    "\n",
    "accuracy_versus_k\n"
   ]
  },
  {
   "cell_type": "code",
   "execution_count": 41,
   "metadata": {},
   "outputs": [
    {
     "data": {
      "text/html": [
       "<table>\n",
       "<caption>A tibble: 9 × 7</caption>\n",
       "<thead>\n",
       "\t<tr><th scope=col>neighbors</th><th scope=col>.metric</th><th scope=col>.estimator</th><th scope=col>mean</th><th scope=col>n</th><th scope=col>std_err</th><th scope=col>.config</th></tr>\n",
       "\t<tr><th scope=col>&lt;int&gt;</th><th scope=col>&lt;chr&gt;</th><th scope=col>&lt;chr&gt;</th><th scope=col>&lt;dbl&gt;</th><th scope=col>&lt;int&gt;</th><th scope=col>&lt;dbl&gt;</th><th scope=col>&lt;chr&gt;</th></tr>\n",
       "</thead>\n",
       "<tbody>\n",
       "\t<tr><td> 8</td><td>accuracy</td><td>binary</td><td>0.6601890</td><td>5</td><td>0.01962065</td><td>Model5</td></tr>\n",
       "\t<tr><td> 7</td><td>accuracy</td><td>binary</td><td>0.6568556</td><td>5</td><td>0.02227994</td><td>Model4</td></tr>\n",
       "\t<tr><td>15</td><td>accuracy</td><td>binary</td><td>0.6566277</td><td>5</td><td>0.01185632</td><td>Model9</td></tr>\n",
       "\t<tr><td>⋮</td><td>⋮</td><td>⋮</td><td>⋮</td><td>⋮</td><td>⋮</td><td>⋮</td></tr>\n",
       "\t<tr><td>4</td><td>accuracy</td><td>binary</td><td>0.6296162</td><td>5</td><td>0.01672407</td><td>Model2</td></tr>\n",
       "\t<tr><td>2</td><td>accuracy</td><td>binary</td><td>0.6236411</td><td>5</td><td>0.02823700</td><td>Model1</td></tr>\n",
       "\t<tr><td>5</td><td>accuracy</td><td>binary</td><td>0.6227801</td><td>5</td><td>0.01761848</td><td>Model3</td></tr>\n",
       "</tbody>\n",
       "</table>\n"
      ],
      "text/latex": [
       "A tibble: 9 × 7\n",
       "\\begin{tabular}{lllllll}\n",
       " neighbors & .metric & .estimator & mean & n & std\\_err & .config\\\\\n",
       " <int> & <chr> & <chr> & <dbl> & <int> & <dbl> & <chr>\\\\\n",
       "\\hline\n",
       "\t  8 & accuracy & binary & 0.6601890 & 5 & 0.01962065 & Model5\\\\\n",
       "\t  7 & accuracy & binary & 0.6568556 & 5 & 0.02227994 & Model4\\\\\n",
       "\t 15 & accuracy & binary & 0.6566277 & 5 & 0.01185632 & Model9\\\\\n",
       "\t ⋮ & ⋮ & ⋮ & ⋮ & ⋮ & ⋮ & ⋮\\\\\n",
       "\t 4 & accuracy & binary & 0.6296162 & 5 & 0.01672407 & Model2\\\\\n",
       "\t 2 & accuracy & binary & 0.6236411 & 5 & 0.02823700 & Model1\\\\\n",
       "\t 5 & accuracy & binary & 0.6227801 & 5 & 0.01761848 & Model3\\\\\n",
       "\\end{tabular}\n"
      ],
      "text/markdown": [
       "\n",
       "A tibble: 9 × 7\n",
       "\n",
       "| neighbors &lt;int&gt; | .metric &lt;chr&gt; | .estimator &lt;chr&gt; | mean &lt;dbl&gt; | n &lt;int&gt; | std_err &lt;dbl&gt; | .config &lt;chr&gt; |\n",
       "|---|---|---|---|---|---|---|\n",
       "|  8 | accuracy | binary | 0.6601890 | 5 | 0.01962065 | Model5 |\n",
       "|  7 | accuracy | binary | 0.6568556 | 5 | 0.02227994 | Model4 |\n",
       "| 15 | accuracy | binary | 0.6566277 | 5 | 0.01185632 | Model9 |\n",
       "| ⋮ | ⋮ | ⋮ | ⋮ | ⋮ | ⋮ | ⋮ |\n",
       "| 4 | accuracy | binary | 0.6296162 | 5 | 0.01672407 | Model2 |\n",
       "| 2 | accuracy | binary | 0.6236411 | 5 | 0.02823700 | Model1 |\n",
       "| 5 | accuracy | binary | 0.6227801 | 5 | 0.01761848 | Model3 |\n",
       "\n"
      ],
      "text/plain": [
       "  neighbors .metric  .estimator mean      n std_err    .config\n",
       "1  8        accuracy binary     0.6601890 5 0.01962065 Model5 \n",
       "2  7        accuracy binary     0.6568556 5 0.02227994 Model4 \n",
       "3 15        accuracy binary     0.6566277 5 0.01185632 Model9 \n",
       "⋮ ⋮         ⋮        ⋮          ⋮         ⋮ ⋮          ⋮      \n",
       "7 4         accuracy binary     0.6296162 5 0.01672407 Model2 \n",
       "8 2         accuracy binary     0.6236411 5 0.02823700 Model1 \n",
       "9 5         accuracy binary     0.6227801 5 0.01761848 Model3 "
      ]
     },
     "metadata": {},
     "output_type": "display_data"
    }
   ],
   "source": [
    "max_k <- knn_results %>%\n",
    "    filter(.metric ==\"accuracy\") %>%\n",
    "    arrange(desc(mean))\n",
    "max_k"
   ]
  },
  {
   "cell_type": "code",
   "execution_count": 42,
   "metadata": {},
   "outputs": [
    {
     "data": {
      "text/html": [
       "<table>\n",
       "<caption>A tibble: 98 × 5</caption>\n",
       "<thead>\n",
       "\t<tr><th scope=col>.pred_class</th><th scope=col>romantic</th><th scope=col>age</th><th scope=col>absences</th><th scope=col>overall_grade</th></tr>\n",
       "\t<tr><th scope=col>&lt;fct&gt;</th><th scope=col>&lt;fct&gt;</th><th scope=col>&lt;dbl&gt;</th><th scope=col>&lt;dbl&gt;</th><th scope=col>&lt;dbl&gt;</th></tr>\n",
       "</thead>\n",
       "<tbody>\n",
       "\t<tr><td>no</td><td>no</td><td>15</td><td>2</td><td>31</td></tr>\n",
       "\t<tr><td>no</td><td>no</td><td>16</td><td>4</td><td>42</td></tr>\n",
       "\t<tr><td>no</td><td>no</td><td>15</td><td>0</td><td>42</td></tr>\n",
       "\t<tr><td>⋮</td><td>⋮</td><td>⋮</td><td>⋮</td><td>⋮</td></tr>\n",
       "\t<tr><td>no </td><td>no </td><td>18</td><td>2</td><td>26</td></tr>\n",
       "\t<tr><td>no </td><td>yes</td><td>18</td><td>0</td><td>45</td></tr>\n",
       "\t<tr><td>yes</td><td>no </td><td>19</td><td>0</td><td>11</td></tr>\n",
       "</tbody>\n",
       "</table>\n"
      ],
      "text/latex": [
       "A tibble: 98 × 5\n",
       "\\begin{tabular}{lllll}\n",
       " .pred\\_class & romantic & age & absences & overall\\_grade\\\\\n",
       " <fct> & <fct> & <dbl> & <dbl> & <dbl>\\\\\n",
       "\\hline\n",
       "\t no & no & 15 & 2 & 31\\\\\n",
       "\t no & no & 16 & 4 & 42\\\\\n",
       "\t no & no & 15 & 0 & 42\\\\\n",
       "\t ⋮ & ⋮ & ⋮ & ⋮ & ⋮\\\\\n",
       "\t no  & no  & 18 & 2 & 26\\\\\n",
       "\t no  & yes & 18 & 0 & 45\\\\\n",
       "\t yes & no  & 19 & 0 & 11\\\\\n",
       "\\end{tabular}\n"
      ],
      "text/markdown": [
       "\n",
       "A tibble: 98 × 5\n",
       "\n",
       "| .pred_class &lt;fct&gt; | romantic &lt;fct&gt; | age &lt;dbl&gt; | absences &lt;dbl&gt; | overall_grade &lt;dbl&gt; |\n",
       "|---|---|---|---|---|\n",
       "| no | no | 15 | 2 | 31 |\n",
       "| no | no | 16 | 4 | 42 |\n",
       "| no | no | 15 | 0 | 42 |\n",
       "| ⋮ | ⋮ | ⋮ | ⋮ | ⋮ |\n",
       "| no  | no  | 18 | 2 | 26 |\n",
       "| no  | yes | 18 | 0 | 45 |\n",
       "| yes | no  | 19 | 0 | 11 |\n",
       "\n"
      ],
      "text/plain": [
       "   .pred_class romantic age absences overall_grade\n",
       "1  no          no       15  2        31           \n",
       "2  no          no       16  4        42           \n",
       "3  no          no       15  0        42           \n",
       "⋮  ⋮           ⋮        ⋮   ⋮        ⋮            \n",
       "96 no          no       18  2        26           \n",
       "97 no          yes      18  0        45           \n",
       "98 yes         no       19  0        11           "
      ]
     },
     "metadata": {},
     "output_type": "display_data"
    }
   ],
   "source": [
    "student_recipe <- recipe(romantic ~ ., data = data_train) %>%      #variety ~ factor1 + factor2 + ... to manually pick\n",
    "                    step_scale(all_predictors()) %>%\n",
    "                    step_center(all_predictors())\n",
    "\n",
    "student_model <- nearest_neighbor(weight_func = \"rectangular\", neighbors = 8) %>%\n",
    "                set_engine(\"kknn\") %>%\n",
    "                set_mode(\"classification\")\n",
    "\n",
    "student_workflow <- workflow() %>%\n",
    "                    add_model(student_model) %>%\n",
    "                    add_recipe(student_recipe)\n",
    "\n",
    "student_fit <- fit(student_workflow, data = data_train)\n",
    "\n",
    "\n",
    "student_test_predictions <- predict(student_fit , data_test) %>%\n",
    "      bind_cols(data_test)\n",
    "student_test_predictions"
   ]
  },
  {
   "cell_type": "code",
   "execution_count": 43,
   "metadata": {},
   "outputs": [
    {
     "data": {
      "text/html": [
       "<table>\n",
       "<caption>A tibble: 2 × 3</caption>\n",
       "<thead>\n",
       "\t<tr><th scope=col>.metric</th><th scope=col>.estimator</th><th scope=col>.estimate</th></tr>\n",
       "\t<tr><th scope=col>&lt;chr&gt;</th><th scope=col>&lt;chr&gt;</th><th scope=col>&lt;dbl&gt;</th></tr>\n",
       "</thead>\n",
       "<tbody>\n",
       "\t<tr><td>accuracy</td><td>binary</td><td>0.7346939</td></tr>\n",
       "\t<tr><td>kap     </td><td>binary</td><td>0.3255691</td></tr>\n",
       "</tbody>\n",
       "</table>\n"
      ],
      "text/latex": [
       "A tibble: 2 × 3\n",
       "\\begin{tabular}{lll}\n",
       " .metric & .estimator & .estimate\\\\\n",
       " <chr> & <chr> & <dbl>\\\\\n",
       "\\hline\n",
       "\t accuracy & binary & 0.7346939\\\\\n",
       "\t kap      & binary & 0.3255691\\\\\n",
       "\\end{tabular}\n"
      ],
      "text/markdown": [
       "\n",
       "A tibble: 2 × 3\n",
       "\n",
       "| .metric &lt;chr&gt; | .estimator &lt;chr&gt; | .estimate &lt;dbl&gt; |\n",
       "|---|---|---|\n",
       "| accuracy | binary | 0.7346939 |\n",
       "| kap      | binary | 0.3255691 |\n",
       "\n"
      ],
      "text/plain": [
       "  .metric  .estimator .estimate\n",
       "1 accuracy binary     0.7346939\n",
       "2 kap      binary     0.3255691"
      ]
     },
     "metadata": {},
     "output_type": "display_data"
    }
   ],
   "source": [
    "student_prediction_accuracy <- student_test_predictions %>%\n",
    "        metrics(truth = romantic, estimate = .pred_class)       \n",
    "student_prediction_accuracy"
   ]
  },
  {
   "cell_type": "code",
   "execution_count": null,
   "metadata": {},
   "outputs": [],
   "source": []
  },
  {
   "cell_type": "code",
   "execution_count": null,
   "metadata": {},
   "outputs": [],
   "source": []
  }
 ],
 "metadata": {
  "kernelspec": {
   "display_name": "R",
   "language": "R",
   "name": "ir"
  },
  "language_info": {
   "codemirror_mode": "r",
   "file_extension": ".r",
   "mimetype": "text/x-r-source",
   "name": "R",
   "pygments_lexer": "r",
   "version": "4.0.0"
  }
 },
 "nbformat": 4,
 "nbformat_minor": 4
}
